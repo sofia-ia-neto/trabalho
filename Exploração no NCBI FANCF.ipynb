{
 "cells": [
  {
   "cell_type": "code",
   "execution_count": null,
   "metadata": {},
   "outputs": [],
   "source": [
    "\"\"\"Em primeiro lugar, fizemos download do ficheiro genbank do Fanfc, ATRAVÉS DO SEU id, NC_000011\"\"\""
   ]
  },
  {
   "cell_type": "code",
   "execution_count": 10,
   "metadata": {
    "scrolled": true
   },
   "outputs": [
    {
     "name": "stdout",
     "output_type": "stream",
     "text": [
      "LOCUS       NC_000011          135086622 bp    DNA     linear   CON 09-SEP-2019\n",
      "DEFINITION  Homo sapiens chromosome 11, GRCh38.p13 Primary Assembly.\n",
      "ACCESSION   NC_000011\n",
      "VERSION     NC_000011.10\n",
      "DBLINK      BioProject: PRJNA168\n",
      "            Assembly: GCF_000001405.39\n",
      "KEYWORDS    RefSeq.\n",
      "SOURCE      Homo sapiens (human)\n",
      "  ORGANISM  Homo sapiens\n",
      "            Eukaryota; Metazoa; Chordata; Craniata; Vertebrata; Euteleostomi;\n",
      "            Mammalia; Eutheria; Euarchontoglires; Primates; Haplorrhini;\n",
      "            Catarrhini; Hominidae; Homo.\n",
      "REFERENCE   1  (bases 1 to 135086622)\n",
      "  AUTHORS   Taylor,T.D., Noguchi,H., Totoki,Y., Toyoda,A., Kuroki,Y., Dewar,K.,\n",
      "            Lloyd,C., Itoh,T., Takeda,T., Kim,D.W., She,X., Barlow,K.F.,\n",
      "            Bloom,T., Bruford,E., Chang,J.L., Cuomo,C.A., Eichler,E.,\n",
      "            FitzGerald,M.G., Jaffe,D.B., LaButti,K., Nicol,R., Park,H.S.,\n",
      "            Seaman,C., Sougnez,C., Yang,X., Zimmer,A.R., Zody,M.C.,\n",
      "            Birren,B.W., Nusbaum,C., Fujiyama,A., Hattori,M., Rogers,J.,\n",
      "            Lander,E.S. and Sakaki,Y.\n",
      "  TITLE     Human chromosome 11 DNA sequence and analysis including novel gene\n",
      "            identification\n",
      "  JOURNAL   Nature 440 (7083), 497-500 (2006)\n",
      "   PUBMED   16554811\n",
      "REFERENCE   2  (bases 1 to 135086622)\n",
      "  CONSRTM   International Human Genome Sequencing Consortium\n",
      "  TITLE     Finishing the euchromatic sequence of the human genome\n",
      "  JOURNAL   Nature 431 (7011), 931-945 (2004)\n",
      "   PUBMED   15496913\n",
      "REFERENCE   3  (bases 1 to 135086622)\n",
      "  AUTHORS   Lander,E.S., Linton,L.M., Birren,B., Nusbaum,C., Zody,M.C.,\n",
      "            Baldwin,J., Devon,K., Dewar,K., Doyle,M., FitzHugh,W., Funke,R.,\n",
      "            Gage,D., Harris,K., Heaford,A., Howland,J., Kann,L., Lehoczky,J.,\n",
      "            LeVine,R., McEwan,P., McKernan,K., Meldrim,J., Mesirov,J.P.,\n",
      "            Miranda,C., Morris,W., Naylor,J., Raymond,C., Rosetti,M.,\n",
      "            Santos,R., Sheridan,A., Sougnez,C., Stange-Thomann,N.,\n",
      "            Stojanovic,N., Subramanian,A., Wyman,D., Rogers,J., Sulston,J.,\n",
      "            Ainscough,R., Beck,S., Bentley,D., Burton,J., Clee,C., Carter,N.,\n",
      "            Coulson,A., Deadman,R., Deloukas,P., Dunham,A., Dunham,I.,\n",
      "            Durbin,R., French,L., Grafham,D., Gregory,S., Hubbard,T.,\n",
      "            Humphray,S., Hunt,A., Jones,M., Lloyd,C., McMurray,A., Matthews,L.,\n",
      "            Mercer,S., Milne,S., Mullikin,J.C., Mungall,A., Plumb,R., Ross,M.,\n",
      "            Shownkeen,R., Sims,S., Waterston,R.H., Wilson,R.K., Hillier,L.W.,\n",
      "            McPherson,J.D., Marra,M.A., Mardis,E.R., Fulton,L.A.,\n",
      "            Chinwalla,A.T., Pepin,K.H., Gish,W.R., Chissoe,S.L., Wendl,M.C.,\n",
      "            Delehaunty,K.D., Miner,T.L., Delehaunty,A., Kramer,J.B., Cook,L.L.,\n",
      "            Fulton,R.S., Johnson,D.L., Minx,P.J., Clifton,S.W., Hawkins,T.,\n",
      "            Branscomb,E., Predki,P., Richardson,P., Wenning,S., Slezak,T.,\n",
      "            Doggett,N., Cheng,J.F., Olsen,A., Lucas,S., Elkin,C.,\n",
      "            Uberbacher,E., Frazier,M., Gibbs,R.A., Muzny,D.M., Scherer,S.E.,\n",
      "            Bouck,J.B., Sodergren,E.J., Worley,K.C., Rives,C.M., Gorrell,J.H.,\n",
      "            Metzker,M.L., Naylor,S.L., Kucherlapati,R.S., Nelson,D.L.,\n",
      "            Weinstock,G.M., Sakaki,Y., Fujiyama,A., Hattori,M., Yada,T.,\n",
      "            Toyoda,A., Itoh,T., Kawagoe,C., Watanabe,H., Totoki,Y., Taylor,T.,\n",
      "            Weissenbach,J., Heilig,R., Saurin,W., Artiguenave,F., Brottier,P.,\n",
      "            Bruls,T., Pelletier,E., Robert,C., Wincker,P., Smith,D.R.,\n",
      "            Doucette-Stamm,L., Rubenfield,M., Weinstock,K., Lee,H.M.,\n",
      "            Dubois,J., Rosenthal,A., Platzer,M., Nyakatura,G., Taudien,S.,\n",
      "            Rump,A., Yang,H., Yu,J., Wang,J., Huang,G., Gu,J., Hood,L.,\n",
      "            Rowen,L., Madan,A., Qin,S., Davis,R.W., Federspiel,N.A.,\n",
      "            Abola,A.P., Proctor,M.J., Myers,R.M., Schmutz,J., Dickson,M.,\n",
      "            Grimwood,J., Cox,D.R., Olson,M.V., Kaul,R., Raymond,C., Shimizu,N.,\n",
      "            Kawasaki,K., Minoshima,S., Evans,G.A., Athanasiou,M., Schultz,R.,\n",
      "            Roe,B.A., Chen,F., Pan,H., Ramser,J., Lehrach,H., Reinhardt,R.,\n",
      "            McCombie,W.R., de la Bastide,M., Dedhia,N., Blocker,H.,\n",
      "            Hornischer,K., Nordsiek,G., Agarwala,R., Aravind,L., Bailey,J.A.,\n",
      "            Bateman,A., Batzoglou,S., Birney,E., Bork,P., Brown,D.G.,\n",
      "            Burge,C.B., Cerutti,L., Chen,H.C., Church,D., Clamp,M.,\n",
      "            Copley,R.R., Doerks,T., Eddy,S.R., Eichler,E.E., Furey,T.S.,\n",
      "            Galagan,J., Gilbert,J.G., Harmon,C., Hayashizaki,Y., Haussler,D.,\n",
      "            Hermjakob,H., Hokamp,K., Jang,W., Johnson,L.S., Jones,T.A.,\n",
      "            Kasif,S., Kaspryzk,A., Kennedy,S., Kent,W.J., Kitts,P.,\n",
      "            Koonin,E.V., Korf,I., Kulp,D., Lancet,D., Lowe,T.M., McLysaght,A.,\n",
      "            Mikkelsen,T., Moran,J.V., Mulder,N., Pollara,V.J., Ponting,C.P.,\n",
      "            Schuler,G., Schultz,J., Slater,G., Smit,A.F., Stupka,E.,\n",
      "            Szustakowski,J., Thierry-Mieg,D., Thierry-Mieg,J., Wagner,L.,\n",
      "            Wallis,J., Wheeler,R., Williams,A., Wolf,Y.I., Wolfe,K.H.,\n",
      "            Yang,S.P., Yeh,R.F., Collins,F., Guyer,M.S., Peterson,J.,\n",
      "            Felsenfeld,A., Wetterstrand,K.A., Patrinos,A., Morgan,M.J., de\n",
      "            Jong,P., Catanese,J.J., Osoegawa,K., Shizuya,H., Choi,S. and\n",
      "            Chen,Y.J.\n",
      "  CONSRTM   International Human Genome Sequencing Consortium\n",
      "  TITLE     Initial sequencing and analysis of the human genome\n",
      "  JOURNAL   Nature 409 (6822), 860-921 (2001)\n",
      "   PUBMED   11237011\n",
      "  REMARK    Erratum:[Nature 2001 Aug 2;412(6846):565]\n",
      "COMMENT     REFSEQ INFORMATION: The reference sequence is identical to\n",
      "            CM000673.2.\n",
      "            On Feb 3, 2014 this sequence version replaced NC_000011.9.\n",
      "            Assembly Name: GRCh38.p13 Primary Assembly\n",
      "            The DNA sequence is composed of genomic sequence, primarily\n",
      "            finished clones that were sequenced as part of the Human Genome\n",
      "            Project. PCR products and WGS shotgun sequence have been added\n",
      "            where necessary to fill gaps or correct errors. All such additions\n",
      "            are manually curated by GRC staff. For more information see:\n",
      "            https://genomereference.org.\n",
      "            \n",
      "            ##Genome-Annotation-Data-START##\n",
      "            Annotation Provider         :: NCBI\n",
      "            Annotation Status           :: Updated annotation\n",
      "            Annotation Name             :: Homo sapiens Updated Annotation\n",
      "                                           Release 109.20190905\n",
      "            Annotation Version          :: 109.20190905\n",
      "            Annotation Pipeline         :: NCBI eukaryotic genome annotation\n",
      "                                           pipeline\n",
      "            Annotation Software Version :: 8.2\n",
      "            Annotation Method           :: Best-placed RefSeq; propagated\n",
      "                                           RefSeq model\n",
      "            Features Annotated          :: Gene; mRNA; CDS; ncRNA\n",
      "            ##Genome-Annotation-Data-END##\n",
      "FEATURES             Location/Qualifiers\n",
      "     source          1..135086622\n",
      "                     /organism=\"Homo sapiens\"\n",
      "                     /mol_type=\"genomic DNA\"\n",
      "                     /db_xref=\"taxon:9606\"\n",
      "                     /chromosome=\"11\"\n",
      "CONTIG      join(gap(10000),gap(50000),NT_009237.19:1..50761348,gap(50000),\n",
      "            gap(207000),NT_187219.1:1..11969,gap(100),NT_187220.1:1..3251982,\n",
      "            gap(100),NT_187221.1:1..82575,gap(100000),NT_167190.2:1..33453128,\n",
      "            gap(24694),NT_033899.9:1..47073726,gap(10000))\n",
      "//\n",
      "\n",
      "\n"
     ]
    }
   ],
   "source": [
    "from Bio import Entrez\n",
    "Entrez.email = \"helenaneto14@gmail.com\"\n",
    "handle = Entrez.efetch (db=\"nucleotide\" , id= \"NC_000011\", rettype= \"gb\", retmode=\"text\")\n",
    "print (handle.read())"
   ]
  },
  {
   "cell_type": "code",
   "execution_count": 9,
   "metadata": {},
   "outputs": [
    {
     "ename": "NotXMLError",
     "evalue": "Failed to parse the XML data (syntax error: line 1, column 0). Please make sure that the input data are in XML format.",
     "output_type": "error",
     "traceback": [
      "\u001b[1;31m---------------------------------------------------------------------------\u001b[0m",
      "\u001b[1;31mExpatError\u001b[0m                                Traceback (most recent call last)",
      "\u001b[1;32m~\\Anaconda3\\lib\\site-packages\\Bio\\Entrez\\Parser.py\u001b[0m in \u001b[0;36mread\u001b[1;34m(self, handle)\u001b[0m\n\u001b[0;32m    332\u001b[0m         \u001b[1;32mtry\u001b[0m\u001b[1;33m:\u001b[0m\u001b[1;33m\u001b[0m\u001b[1;33m\u001b[0m\u001b[0m\n\u001b[1;32m--> 333\u001b[1;33m             \u001b[0mself\u001b[0m\u001b[1;33m.\u001b[0m\u001b[0mparser\u001b[0m\u001b[1;33m.\u001b[0m\u001b[0mParseFile\u001b[0m\u001b[1;33m(\u001b[0m\u001b[0mhandle\u001b[0m\u001b[1;33m)\u001b[0m\u001b[1;33m\u001b[0m\u001b[1;33m\u001b[0m\u001b[0m\n\u001b[0m\u001b[0;32m    334\u001b[0m         \u001b[1;32mexcept\u001b[0m \u001b[0mexpat\u001b[0m\u001b[1;33m.\u001b[0m\u001b[0mExpatError\u001b[0m \u001b[1;32mas\u001b[0m \u001b[0me\u001b[0m\u001b[1;33m:\u001b[0m\u001b[1;33m\u001b[0m\u001b[1;33m\u001b[0m\u001b[0m\n",
      "\u001b[1;31mExpatError\u001b[0m: syntax error: line 1, column 0",
      "\nDuring handling of the above exception, another exception occurred:\n",
      "\u001b[1;31mNotXMLError\u001b[0m                               Traceback (most recent call last)",
      "\u001b[1;32m<ipython-input-9-5773bf7b47ad>\u001b[0m in \u001b[0;36m<module>\u001b[1;34m\u001b[0m\n\u001b[0;32m      3\u001b[0m \u001b[0mhandle\u001b[0m \u001b[1;33m=\u001b[0m \u001b[0mEntrez\u001b[0m\u001b[1;33m.\u001b[0m\u001b[0mefetch\u001b[0m \u001b[1;33m(\u001b[0m\u001b[0mdb\u001b[0m\u001b[1;33m=\u001b[0m\u001b[1;34m\"nucleotide\"\u001b[0m \u001b[1;33m,\u001b[0m \u001b[0mid\u001b[0m\u001b[1;33m=\u001b[0m \u001b[1;34m\"NC_000011.10\"\u001b[0m\u001b[1;33m,\u001b[0m \u001b[0mrettype\u001b[0m\u001b[1;33m=\u001b[0m\u001b[1;34m\"gb\"\u001b[0m\u001b[1;33m,\u001b[0m \u001b[0mretmode\u001b[0m\u001b[1;33m=\u001b[0m\u001b[1;34m\"text\"\u001b[0m\u001b[1;33m)\u001b[0m\u001b[1;33m\u001b[0m\u001b[1;33m\u001b[0m\u001b[0m\n\u001b[0;32m      4\u001b[0m \u001b[1;31m#print(record)\u001b[0m\u001b[1;33m\u001b[0m\u001b[1;33m\u001b[0m\u001b[1;33m\u001b[0m\u001b[0m\n\u001b[1;32m----> 5\u001b[1;33m \u001b[0mrecord\u001b[0m \u001b[1;33m=\u001b[0m \u001b[0mEntrez\u001b[0m\u001b[1;33m.\u001b[0m\u001b[0mread\u001b[0m\u001b[1;33m(\u001b[0m\u001b[0mhandle\u001b[0m\u001b[1;33m)\u001b[0m\u001b[1;33m\u001b[0m\u001b[1;33m\u001b[0m\u001b[0m\n\u001b[0m",
      "\u001b[1;32m~\\Anaconda3\\lib\\site-packages\\Bio\\Entrez\\__init__.py\u001b[0m in \u001b[0;36mread\u001b[1;34m(handle, validate, escape)\u001b[0m\n\u001b[0;32m    472\u001b[0m     \u001b[1;32mfrom\u001b[0m \u001b[1;33m.\u001b[0m\u001b[0mParser\u001b[0m \u001b[1;32mimport\u001b[0m \u001b[0mDataHandler\u001b[0m\u001b[1;33m\u001b[0m\u001b[1;33m\u001b[0m\u001b[0m\n\u001b[0;32m    473\u001b[0m     \u001b[0mhandler\u001b[0m \u001b[1;33m=\u001b[0m \u001b[0mDataHandler\u001b[0m\u001b[1;33m(\u001b[0m\u001b[0mvalidate\u001b[0m\u001b[1;33m,\u001b[0m \u001b[0mescape\u001b[0m\u001b[1;33m)\u001b[0m\u001b[1;33m\u001b[0m\u001b[1;33m\u001b[0m\u001b[0m\n\u001b[1;32m--> 474\u001b[1;33m     \u001b[0mrecord\u001b[0m \u001b[1;33m=\u001b[0m \u001b[0mhandler\u001b[0m\u001b[1;33m.\u001b[0m\u001b[0mread\u001b[0m\u001b[1;33m(\u001b[0m\u001b[0mhandle\u001b[0m\u001b[1;33m)\u001b[0m\u001b[1;33m\u001b[0m\u001b[1;33m\u001b[0m\u001b[0m\n\u001b[0m\u001b[0;32m    475\u001b[0m     \u001b[1;32mreturn\u001b[0m \u001b[0mrecord\u001b[0m\u001b[1;33m\u001b[0m\u001b[1;33m\u001b[0m\u001b[0m\n\u001b[0;32m    476\u001b[0m \u001b[1;33m\u001b[0m\u001b[0m\n",
      "\u001b[1;32m~\\Anaconda3\\lib\\site-packages\\Bio\\Entrez\\Parser.py\u001b[0m in \u001b[0;36mread\u001b[1;34m(self, handle)\u001b[0m\n\u001b[0;32m    341\u001b[0m                 \u001b[1;31m# We have not seen the initial <!xml declaration, so probably\u001b[0m\u001b[1;33m\u001b[0m\u001b[1;33m\u001b[0m\u001b[1;33m\u001b[0m\u001b[0m\n\u001b[0;32m    342\u001b[0m                 \u001b[1;31m# the input data is not in XML format.\u001b[0m\u001b[1;33m\u001b[0m\u001b[1;33m\u001b[0m\u001b[1;33m\u001b[0m\u001b[0m\n\u001b[1;32m--> 343\u001b[1;33m                 \u001b[1;32mraise\u001b[0m \u001b[0mNotXMLError\u001b[0m\u001b[1;33m(\u001b[0m\u001b[0me\u001b[0m\u001b[1;33m)\u001b[0m\u001b[1;33m\u001b[0m\u001b[1;33m\u001b[0m\u001b[0m\n\u001b[0m\u001b[0;32m    344\u001b[0m         \u001b[1;32mtry\u001b[0m\u001b[1;33m:\u001b[0m\u001b[1;33m\u001b[0m\u001b[1;33m\u001b[0m\u001b[0m\n\u001b[0;32m    345\u001b[0m             \u001b[1;32mreturn\u001b[0m \u001b[0mself\u001b[0m\u001b[1;33m.\u001b[0m\u001b[0mrecord\u001b[0m\u001b[1;33m\u001b[0m\u001b[1;33m\u001b[0m\u001b[0m\n",
      "\u001b[1;31mNotXMLError\u001b[0m: Failed to parse the XML data (syntax error: line 1, column 0). Please make sure that the input data are in XML format."
     ]
    }
   ],
   "source": [
    "from Bio import Entrez\n",
    "Entrez.email = \"helenaneto14@gmail.com\"\n",
    "handle = Entrez.efetch (db=\"nucleotide\" , id= \"NC_000011.10\", rettype=\"gb\", retmode=\"text\")\n",
    "#print(record)\n",
    "record = Entrez.read(handle)"
   ]
  },
  {
   "cell_type": "code",
   "execution_count": null,
   "metadata": {},
   "outputs": [],
   "source": [
    "\"\"\"Fazer parsing ao documento, para guardar linhas importantes do ficheiro em modo xml, em variáveis.\"\"\""
   ]
  },
  {
   "cell_type": "code",
   "execution_count": 88,
   "metadata": {
    "scrolled": true
   },
   "outputs": [
    {
     "name": "stdout",
     "output_type": "stream",
     "text": [
      "definição: Homo sapiens chromosome 11, GRCh38.p13 Primary Assembly\n",
      "source: Homo sapiens (human)\n",
      "locus: NC_000011\n",
      "tamanho da sequencia: 135086622\n",
      "taxonomia: Eukaryota; Metazoa; Chordata; Craniata; Vertebrata; Euteleostomi; Mammalia; Eutheria; Euarchontoglires; Primates; Haplorrhini; Catarrhini; Hominidae; Homo\n"
     ]
    }
   ],
   "source": [
    "handle.close()\n",
    "definicao = record[0][\"GBSeq_definition\"]\n",
    "source = record[0][\"GBSeq_source\"]\n",
    "locus = record [0][\"GBSeq_locus\"]\n",
    "tamanho = record[0][\"GBSeq_length\"]\n",
    "taxonomia = record [0]['GBSeq_taxonomy']\n",
    "\n",
    "print(\"definição:\", definicao)\n",
    "print(\"source:\", source)\n",
    "print(\"locus:\", locus)\n",
    "print (\"tamanho da sequencia:\", tamanho)\n",
    "print(\"taxonomia:\", taxonomia)\n",
    "\n",
    "\n",
    "\n",
    "# conseguimos retirar mais coisas, podemos ver o que retirar se imprimirmos o record antes de o fechar, na célula de cima\n",
    "\n"
   ]
  },
  {
   "cell_type": "code",
   "execution_count": null,
   "metadata": {},
   "outputs": [],
   "source": [
    "\"\"\" Fazer pesquisa automatizada no Pubmed (NCBI) sobre o gene, e o cancro relacionado- cancro da mama\"\"\""
   ]
  },
  {
   "cell_type": "code",
   "execution_count": 60,
   "metadata": {},
   "outputs": [
    {
     "name": "stdout",
     "output_type": "stream",
     "text": [
      "numero de artigps no pubmed sobre cancro da mama, relacionados com o gene FANFC: 21\n"
     ]
    }
   ],
   "source": [
    "handle= Entrez.egquery(term=\"Breast Cancer FANCF\")\n",
    "record= Entrez.read(handle)\n",
    "for row in record[\"eGQueryResult\"]:\n",
    "    if row[\"DbName\"]==\"pubmed\":\n",
    "        numero_artigos = row[\"Count\"]\n",
    "        print(\"numero de artigps no pubmed sobre cancro da mama, relacionados com o gene FANFC:\", numero_artigos)"
   ]
  },
  {
   "cell_type": "code",
   "execution_count": null,
   "metadata": {},
   "outputs": [],
   "source": [
    "\"\"\"Agora, vamos buscar os IDs dos primeiros 3 artigos\"\"\""
   ]
  },
  {
   "cell_type": "code",
   "execution_count": 55,
   "metadata": {},
   "outputs": [
    {
     "name": "stdout",
     "output_type": "stream",
     "text": [
      "['31511498', '20301575', '28513990']\n"
     ]
    }
   ],
   "source": [
    "handle= Entrez.esearch(db=\"pubmed\", term=\"Breast Cancer FANCF\", retmax= 3 )\n",
    "record= Entrez.read(handle)\n",
    "handle.close()\n",
    "idlist =record[\"IdList\"]\n",
    "print(idlist)"
   ]
  },
  {
   "cell_type": "code",
   "execution_count": null,
   "metadata": {
    "scrolled": true
   },
   "outputs": [],
   "source": [
    "\"\"\"Com os Ids dos artigos, vamos agora extrair a informacao\"\"\""
   ]
  },
  {
   "cell_type": "code",
   "execution_count": 56,
   "metadata": {
    "scrolled": true
   },
   "outputs": [
    {
     "name": "stdout",
     "output_type": "stream",
     "text": [
      "título: Intrinsic adriamycin resistance in p53-mutated breast cancer is related to the miR-30c/FANCF/REV1-mediated DNA damage response. \n",
      "autor: ['Lin S', 'Yu L', 'Song X', 'Bi J', 'Jiang L', 'Wang Y', 'He M', 'Xiao Q', 'Sun M', 'Olopade OI', 'Zhao L', 'Wei M'] \n",
      "fonte: Cell Death Dis. 2019 Sep 11;10(9):666. doi: 10.1038/s41419-019-1871-z. \n",
      "data: 2019 Sep 11 \n",
      "abstrato: Adriamycin(ADR) is still considered to be one of the most effective agents in the treatment of breast cancer (BrCa), its efficacy is compromised by intrinsic resistance or acquire characteristics of multidrug resistance. At present, there are few genetic alterations that can be exploited as biomarkers to guide targeted use of ADR in clinical. Therefore, exploring the determinants of ADR sensitivity is pertinent for their optimal clinical application. TP53 is the most frequently mutated gene in human BrCa, p53 mutation has been reported to be closely related to ADR resistance, whereas the underlying mechanisms that cause endogenous ADR resistance in p53-mutant BrCa cells are not completely understood. The aim of the present study was to investigate the potential roles of miRNA in the response to ADR in p53-mutated breast cancer. Here, we report that BrCa cells expressing mutp53 are more resistant to ADR than cells with wild-type p53 (wtp53). The DNA repair protein- Fanconi anemia complementation group F protein (FANCF) and the translesion synthesis DNA polymerase REV1 protein is frequently abundant in the context of mutant p53 of BrCa. By targeting two key factors, miR-30c increases the sensitivity of BrCa cells to ADR. Furthermore, p53 directly activates the transcription of miR-30c by binding to its promoter. Subsequent analyses revealed that p53 regulates REV1 and FANCF by modulating miR-30c expression. Mutation of the p53 abolished this response. Consistently, reduced miR-30c expression is highly correlated with human BrCa with p53 mutational status and is associated with poor survival. We propose that one of the pathways affected by mutant p53 to increase intrinsic resistance to ADR involves miR-30c downregulation and the consequent upregulation of FANCF and REV1. The novel miRNA-mediated pathway that regulates chemoresistance in breast cancer will facilitate the development of novel therapeutic strategies. \n",
      "Palavras chave: ? \n",
      "\n",
      "título: Fanconi Anemia \n",
      "autor: ['Mehta PA', 'Tolar J'] \n",
      "fonte: ? \n",
      "data: 1993 \n",
      "abstrato: CLINICAL CHARACTERISTICS: Fanconi anemia (FA) is characterized by physical abnormalities, bone marrow failure, and increased risk for malignancy. Physical abnormalities, present in approximately 75% of affected individuals, include one or more of the following: short stature, abnormal skin pigmentation, skeletal malformations of the upper and lower limbs, microcephaly, and ophthalmic and genitourinary tract anomalies. Progressive bone marrow failure with pancytopenia typically presents in the first decade, often initially with thrombocytopenia or leukopenia. The incidence of acute myeloid leukemia is 13% by age 50 years. Solid tumors - particularly of the head and neck, skin, gastrointestinal tract, and genitourinary tract - are more common in individuals with FA. DIAGNOSIS/TESTING: The diagnosis of FA is established in a proband with increased chromosome breakage and radial forms on cytogenetic testing of lymphocytes with diepoxybutane (DEB) and mitomycin C (MMC). The diagnosis is confirmed by identification of one of the following: Biallelic pathogenic variants in one of the 19 genes known to cause autosomal recessive FA. A heterozygous pathogenic variant in RAD51, known to cause autosomal dominant FA. A hemizygous pathogenic variant in FANCB, known to cause X-linked FA. MANAGEMENT: Treatment of manifestations: Administration of oral androgens (e.g., oxymetholone) improves blood counts (red cell and platelets) in approximately 50% of individuals with FA; administration of G-CSF improves the neutrophil count in some; hematopoietic stem cell transplantation (HSCT) is the only curative therapy for the hematologic manifestations of FA, but the high risk for solid tumors remains and may even be increased in those undergoing HSCT. All these treatments have potential significant toxicity. Early detection and surgical removal remains the mainstay of therapy for solid tumors. Prevention of primary manifestations: Human papilloma virus (HPV) vaccination to reduce the risk of gynecologic cancer in females, and possibly reduce the risk of oral cancer in all individuals. Prevention of secondary complications: T-cell depletion of the donor graft to minimize the risk of graft vs host disease; conditioning regimen without radiation prior to HSCT to reduce the risk of subsequent solid tumors. Surveillance: Annual evaluation with a multidisciplinary team including an endocrinologist; monitoring for evidence of bone marrow failure (regular blood counts; at least annual bone marrow aspirate/biopsy to evaluate morphology, cellularity, and cytogenetics); for those receiving androgen therapy, monitoring liver function tests and regular ultrasound examination of the liver; monitoring for solid tumors (oropharyngeal and gynecologic examinations). Agents/circumstances to avoid: Transfusions of red cells or platelets for persons who are candidates for HSCT; family members as blood donors if HSCT is being considered; blood products that are not filtered (leukodepleted) or irradiated; toxic agents that have been implicated in tumorigenesis; unsafe sex practices, which increase the risk of HPV-associated malignancy; radiographic studies solely for the purpose of surveillance (i.e., in the absence of clinical indications). Evaluation of relatives at risk: DEB/MMC testing or molecular genetic testing (if the family-specific pathogenic variants are known) of all sibs of a proband for early diagnosis, treatment, and monitoring for physical abnormalities, bone marrow failure, and related cancers. GENETIC COUNSELING: Fanconi anemia (FA) can be inherited in an autosomal recessive manner, an autosomal dominant manner (RAD51-related FA), or an X-linked manner (FANCB-related FA). Autosomal recessive FA: Each sib of an affected individual has a 25% chance of inheriting both pathogenic variants and being affected, a 50% chance of inheriting one pathogenic variant and being a carrier, and a 25% chance of inheriting both normal alleles and not being a carrier. Carriers (heterozygotes) for autosomal recessive FA are asymptomatic. Autosomal dominant FA: Given that all affected individuals with RAD51-related FA reported to date have the disorder as a result of a de novo RAD51 pathogenic variant, the risk to other family members is presumed to be low. X-linked FA: For carrier females the chance of transmitting the pathogenic variant in each pregnancy is 50%; males who inherit the pathogenic variant will be affected; females who inherit the pathogenic variant will be carriers and will usually not be affected. Carrier testing for at-risk relatives (for autosomal recessive and X-linked FA) and prenatal testing for pregnancies at increased risk are possible if the pathogenic variant(s) in the family are known. \n",
      "Palavras chave: ['Fanconi Pancytopenia', 'Fanconi Pancytopenia', 'Breast cancer type 2 susceptibility protein', 'DNA repair endonuclease XPF', 'DNA repair protein RAD51 homolog 1', 'DNA repair protein RAD51 homolog 3', 'DNA repair protein XRCC2', 'E3 ubiquitin-protein ligase FANCL', 'E3 ubiquitin-protein ligase RFWD3', 'Fanconi anemia group A protein', 'Fanconi anemia group B protein', 'Fanconi anemia group C protein', 'Fanconi anemia group D2 protein', 'Fanconi anemia group E protein', 'Fanconi anemia group F protein', 'Fanconi anemia group G protein', 'Fanconi anemia group I protein', 'Fanconi anemia group J protein', 'Fanconi anemia group M protein', 'Mitotic spindle assembly checkpoint protein MAD2B', 'Partner and localizer of BRCA2', 'Structure-specific endonuclease subunit SLX4', 'Ubiquitin-conjugating enzyme E2 T', 'BRCA2', 'BRIP1', 'ERCC4', 'FANCA', 'FANCB', 'FANCC', 'FANCD2', 'FANCE', 'FANCF', 'FANCG', 'FANCI', 'FANCL', 'FANCM', 'MAD2L2', 'PALB2', 'RAD51', 'RAD51C', 'RFWD3', 'SLX4', 'UBE2T', 'XRCC2', 'Fanconi Anemia'] \n",
      "\n",
      "título: Network Meta-Analysis on the Effects of DNA Damage Response-Related Gene Mutations on Overall Survival of Breast Cancer Based on TCGA Database. \n",
      "autor: ['Liu C', 'Chang H', 'Li XH', 'Qi YF', 'Wang JO', 'Zhang Y', 'Yang XH'] \n",
      "fonte: J Cell Biochem. 2017 Dec;118(12):4728-4734. doi: 10.1002/jcb.26140. Epub 2017 Jun 22. \n",
      "data: 2017 Dec \n",
      "abstrato: The study was conducted for comparing the effects of 12 DNA damage response gene mutations (CHEK1, CHEK2, RAD51, BRCA1, BRCA2, MLH1, MSH2, ATM, ATR, MDC1, PARP1, and FANCF) on the overall survival (OS) of breast cancer (BC) patients. We searched the Cancer Genome Atlas (TCGA) database from inception to September 2016. Studies that investigated the association between 12 DNA damage responses related genes and BC consolidated into this Network meta-analysis, by comparing directly or indirectly to evaluate the hazard rate (HR) value and the surface under the cumulative sequence ranking curves (SUCRA). In total four articles were involved. Our results demonstrated 12 DNA damage response gene mutations were associated to the poor prognosis of BC patients (CHEK1: HR = 9.9, 95%CI = 3.6-26.0; CHEK2: HR = 6.9, 95%CI = 3.1-15.0; RAD51: HR = 5.8, 95%CI = 2.2-15.0; BRCA1: HR = 2.8, 95%CI = 1.3-6.1; BRCA2: HR = 3.9, 95%CI = 2.0-7.7; MLH1: HR = 11.0, 95%CI = 3.4-33.0; MSH2: HR = 6.5, 95%CI = 2.1-20.0; ATM: HR = 5.6, 95%CI = 2.6-12.0; ATR: HR = 2.9, 95%CI = 1.3-6.9; MDC1: HR = 15.0, 95%CI = 5.0-45.0; PARP1: HR = 3.4, 95%CI = 1.8-6.6; FANCF: HR = 6.0, 95%CI = 1.8-20.0). SUCRA results revealed that the mutation of MDC1 gene was related to the worst prognosis in patients with BC (SUCRA = 17.32%). DNA damage response gene mutations were associated to the poor prognosis in patients with BC and the BC patients with MDC1 gene mutation had the worst prognosis. J. Cell. Biochem. 118: 4728-4734, 2017. (c) 2017 Wiley Periodicals, Inc. \n",
      "Palavras chave: ['*BREAST CANCER', '*DNA DAMAGE RESPONSE', '*GENE', '*HAZARD RATE', '*OVERALL SURVIVAL'] \n",
      "\n"
     ]
    }
   ],
   "source": [
    "from Bio import Medline\n",
    "handle= Entrez.efetch(db= \"pubmed\", id= idlist, rettype=\"medline\", retmode= \"text\")\n",
    "records= Medline.parse(handle)\n",
    "records = list(records)\n",
    "for record in records:\n",
    "    print(\"título:\", record.get(\"TI\", \"?\"), \"\\nautor:\",record.get(\"AU\", \"?\"), \"\\nfonte:\", record.get(\"SO\", \"?\"), \"\\ndata:\",record.get(\"DP\", \"?\"), \"\\nabstrato:\", record.get(\"AB\", \"?\"), \"\\nPalavras chave:\", record.get(\"OT\", \"?\"), \"\\n\")\n",
    "    "
   ]
  },
  {
   "cell_type": "code",
   "execution_count": null,
   "metadata": {},
   "outputs": [],
   "source": []
  }
 ],
 "metadata": {
  "kernelspec": {
   "display_name": "Python 3",
   "language": "python",
   "name": "python3"
  },
  "language_info": {
   "codemirror_mode": {
    "name": "ipython",
    "version": 3
   },
   "file_extension": ".py",
   "mimetype": "text/x-python",
   "name": "python",
   "nbconvert_exporter": "python",
   "pygments_lexer": "ipython3",
   "version": "3.7.3"
  }
 },
 "nbformat": 4,
 "nbformat_minor": 2
}
