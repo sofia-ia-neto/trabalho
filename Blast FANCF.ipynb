{
 "cells": [
  {
   "cell_type": "code",
   "execution_count": 3,
   "metadata": {},
   "outputs": [
    {
     "name": "stdout",
     "output_type": "stream",
     "text": [
      "NC_000011.10:c22625823-22622533\n",
      "Seq('CTTCGCGCACCTCATGGAATCCCTTCTGCAGCACCTGGATCGCTTTTCCGAGCT...GGA', SingleLetterAlphabet())\n",
      "3291\n"
     ]
    }
   ],
   "source": [
    "from Bio import SeqIO\n",
    "for seq_record in SeqIO.parse(\"FANCF.fasta\", \"fasta\"):\n",
    "    my_seq=repr(seq_record.seq)\n",
    "    tamanho =len(seq_record)\n",
    "    print(seq_record.id)\n",
    "    print(my_seq)\n",
    "    print(tamanho)"
   ]
  },
  {
   "cell_type": "code",
   "execution_count": null,
   "metadata": {},
   "outputs": [],
   "source": [
    "\"com a sequencia em modo fasta, vamos fazer o Blast\""
   ]
  },
  {
   "cell_type": "code",
   "execution_count": 20,
   "metadata": {},
   "outputs": [],
   "source": [
    "from Bio.Blast import NCBIWWW\n",
    "fasta_string = open(\"FANCF.fasta\").read()\n",
    "result_handle = NCBIWWW.qblast(\"blastn\", \"nt\", fasta_string)\n",
    "with open(\"my_blast.xml\", \"w\") as out_handle:\n",
    "    out_handle.write(result_handle.read())\n",
    "result_handle.close()\n",
    "result_handle = open (\"my_blast.xml\")"
   ]
  },
  {
   "cell_type": "code",
   "execution_count": null,
   "metadata": {},
   "outputs": [],
   "source": [
    "\" vamos fazer parse ao ficheiro xml e imprimir os alinhamento com e value menor que 0.04\""
   ]
  },
  {
   "cell_type": "code",
   "execution_count": 19,
   "metadata": {},
   "outputs": [
    {
     "ename": "AttributeError",
     "evalue": "'generator' object has no attribute 'alignments'",
     "output_type": "error",
     "traceback": [
      "\u001b[1;31m---------------------------------------------------------------------------\u001b[0m",
      "\u001b[1;31mAttributeError\u001b[0m                            Traceback (most recent call last)",
      "\u001b[1;32m<ipython-input-19-ad93bc46ad58>\u001b[0m in \u001b[0;36m<module>\u001b[1;34m\u001b[0m\n\u001b[0;32m      4\u001b[0m \u001b[0me_value\u001b[0m \u001b[1;33m=\u001b[0m \u001b[1;36m0.04\u001b[0m\u001b[1;33m\u001b[0m\u001b[1;33m\u001b[0m\u001b[0m\n\u001b[0;32m      5\u001b[0m \u001b[1;31m#L= []\u001b[0m\u001b[1;33m\u001b[0m\u001b[1;33m\u001b[0m\u001b[1;33m\u001b[0m\u001b[0m\n\u001b[1;32m----> 6\u001b[1;33m \u001b[1;32mfor\u001b[0m \u001b[0malignment\u001b[0m \u001b[1;32min\u001b[0m \u001b[0mblast_record\u001b[0m\u001b[1;33m.\u001b[0m\u001b[0malignments\u001b[0m\u001b[1;33m:\u001b[0m\u001b[1;33m\u001b[0m\u001b[1;33m\u001b[0m\u001b[0m\n\u001b[0m\u001b[0;32m      7\u001b[0m     \u001b[1;32mfor\u001b[0m \u001b[0mhsp\u001b[0m \u001b[1;32min\u001b[0m \u001b[0malignment\u001b[0m\u001b[1;33m.\u001b[0m\u001b[0mhsps\u001b[0m\u001b[1;33m:\u001b[0m\u001b[1;33m\u001b[0m\u001b[1;33m\u001b[0m\u001b[0m\n\u001b[0;32m      8\u001b[0m         \u001b[1;32mif\u001b[0m \u001b[0mhsp\u001b[0m\u001b[1;33m.\u001b[0m\u001b[0mexpect\u001b[0m \u001b[1;33m<\u001b[0m \u001b[0me_value\u001b[0m\u001b[1;33m:\u001b[0m\u001b[1;33m\u001b[0m\u001b[1;33m\u001b[0m\u001b[0m\n",
      "\u001b[1;31mAttributeError\u001b[0m: 'generator' object has no attribute 'alignments'"
     ]
    }
   ],
   "source": [
    "from Bio.Blast import NCBIXML\n",
    "#result_handle = open (\"my_blast.xml\")\n",
    "blast_records = NCBIXML.parse(result_handle)\n",
    "e_value = 0.04\n",
    "#L= []\n",
    "for alignment in blast_records.alignments:\n",
    "    for hsp in alignment.hsps:\n",
    "        if hsp.expect < e_value:\n",
    "            print(\"alinhamento\")\n",
    "            print(\"sequencia:\", alignment.title)\n",
    "            print(\"tamanho:\", alignment.length)\n",
    "            print (\"evalue:\", hsp.expect)\n",
    "            print(hsp.query[0:100]+ \"...\")\n",
    "            print (hsp.match[0:100] + \"...\")\n",
    "            print (hsp.sbjct[0:100] + \"...\", \"\\n\")\n",
    "            #L.append(alignment.title)\n",
    "#print (L)            \n",
    "\n",
    "\n",
    "#for blast_record in blast_records:\n",
    "    #print (blast_records)"
   ]
  },
  {
   "cell_type": "code",
   "execution_count": 12,
   "metadata": {},
   "outputs": [
    {
     "ename": "SyntaxError",
     "evalue": "EOL while scanning string literal (<ipython-input-12-daf8ba2ead9a>, line 1)",
     "output_type": "error",
     "traceback": [
      "\u001b[1;36m  File \u001b[1;32m\"<ipython-input-12-daf8ba2ead9a>\"\u001b[1;36m, line \u001b[1;32m1\u001b[0m\n\u001b[1;33m    \"com blast feito, vamos procurar informação, como o número de hits (49, neste caso), e para cada hit\u001b[0m\n\u001b[1;37m                                                                                                        ^\u001b[0m\n\u001b[1;31mSyntaxError\u001b[0m\u001b[1;31m:\u001b[0m EOL while scanning string literal\n"
     ]
    }
   ],
   "source": [
    "\"com blast feito, vamos procurar informação, como o número de hits (49, neste caso), e para cada hit\n",
    "\"conseguimos ver quantos High Scoring Pairs tem, o ID e um pouco da discrição\""
   ]
  },
  {
   "cell_type": "code",
   "execution_count": 38,
   "metadata": {
    "scrolled": true
   },
   "outputs": [
    {
     "name": "stdout",
     "output_type": "stream",
     "text": [
      "Program: blastn (2.10.0+)\n",
      "  Query: NC_000011.10:c22625823-22622533 (3291)\n",
      "         Homo sapiens chromosome 11, GRCh38.p13 Primary Assembly\n",
      " Target: nt_v5\n",
      "   Hits: ----  -----  ----------------------------------------------------------\n",
      "            #  # HSP  ID + description\n",
      "         ----  -----  ----------------------------------------------------------\n",
      "            0      1  gi|1732746308|ref|NM_022725.4|  Homo sapiens FA complem...\n",
      "            1      3  gi|168480095|ref|NG_007425.1|  Homo sapiens FA compleme...\n",
      "            2     37  gi|22038636|gb|AC103801.2|  Homo sapiens chromosome 11,...\n",
      "            3     30  gi|28195912|gb|AC116010.5|  Homo sapiens chromosome 11,...\n",
      "            4      2  gi|59860522|gb|AY928335.1|  Homo sapiens Fanconi anemia...\n",
      "            5      1  gi|10434946|dbj|AK023153.1|  Homo sapiens cDNA FLJ13091...\n",
      "            6      1  gi|77799890|dbj|AK001716.2|  Homo sapiens cDNA FLJ10854...\n",
      "            7      2  gi|1220173480|ref|XM_003910119.4|  PREDICTED: Papio anu...\n",
      "            8      2  gi|1622863779|ref|XM_015114625.2|  PREDICTED: Macaca mu...\n",
      "            9      2  gi|1753033182|ref|XM_019020134.2|  PREDICTED: Gorilla g...\n",
      "           10      1  gi|931578895|ref|XM_003830450.3|  PREDICTED: Pan panisc...\n",
      "           11      2  gi|1367134057|ref|XM_001169698.6|  PREDICTED: Pan trogl...\n",
      "           12      2  gi|1351403763|ref|XM_002821953.4|  PREDICTED: Pongo abe...\n",
      "           13      2  gi|1743164116|ref|XM_003254331.4|  PREDICTED: Nomascus ...\n",
      "           14      2  gi|982294735|ref|XM_005578381.2|  PREDICTED: Macaca fas...\n",
      "           15      2  gi|1381437020|ref|XM_011750291.2|  PREDICTED: Macaca ne...\n",
      "           16      1  gi|1482587164|ref|XM_023191508.2|  PREDICTED: Piliocolo...\n",
      "           17      4  gi|635014607|ref|XM_008004110.1|  PREDICTED: Chlorocebu...\n",
      "           18      2  gi|34365354|emb|BX640996.1|  Homo sapiens mRNA; cDNA DK...\n",
      "           19      2  gi|795349796|ref|XM_012075948.1|  PREDICTED: Cercocebus...\n",
      "           20      1  gi|1411108439|ref|XM_025357731.1|  PREDICTED: Theropith...\n",
      "           21      1  gi|795142638|ref|XM_011937515.1|  PREDICTED: Colobus an...\n",
      "           22      2  gi|795085696|ref|XM_011971319.1|  PREDICTED: Mandrillus...\n",
      "           23      1  gi|1751223158|ref|XM_010381051.2|  PREDICTED: Rhinopith...\n",
      "           24      1  gi|1059181320|ref|XM_017891466.1|  PREDICTED: Rhinopith...\n",
      "           25      1  gi|62898114|dbj|AK223277.1|  Homo sapiens mRNA for Fanc...\n",
      "           26      1  gi|38969954|gb|BC063038.1|  Homo sapiens Fanconi anemia...\n",
      "           27      1  gi|28461326|gb|BC047028.1|  Homo sapiens Fanconi anemia...\n",
      "           28      1  gi|1212373493|ref|XM_012456478.2|  PREDICTED: Aotus nan...\n",
      "           29      1  gi|725549126|ref|XM_003919924.2|  PREDICTED: Saimiri bo...\n",
      "           ~~~\n",
      "           47      1  gi|1655739287|ref|XM_029208388.1|  PREDICTED: Monodon m...\n",
      "           48      1  gi|1516113017|ref|XM_027115171.1|  PREDICTED: Lagenorhy...\n",
      "           49      1  gi|821383798|ref|XM_004263925.2|  PREDICTED: Orcinus or...\n"
     ]
    }
   ],
   "source": [
    "from Bio import SearchIO\n",
    "\n",
    "blast_qresult = SearchIO.read(\"my_blast.xml\", \"blast-xml\")\n",
    "print (blast_qresult)"
   ]
  },
  {
   "cell_type": "code",
   "execution_count": null,
   "metadata": {},
   "outputs": [],
   "source": [
    "\" selecionando as linhas com mais HSP, vamos alinhar o hit com a sequencia\""
   ]
  },
  {
   "cell_type": "code",
   "execution_count": 46,
   "metadata": {},
   "outputs": [
    {
     "name": "stdout",
     "output_type": "stream",
     "text": [
      "      Query: NC_000011.10:c22625823-22622533 Homo sapiens chromosome 11, GRCh...\n",
      "        Hit: gi|22038636|gb|AC103801.2| Homo sapiens chromosome 11, clone RP1...\n",
      "Query range: [0:3291] (1)\n",
      "  Hit range: [163266:166557] (1)\n",
      "Quick stats: evalue 0; bitscore 5936.17\n",
      "  Fragments: 1 (3291 columns)\n",
      "     Query - CTTCGCGCACCTCATGGAATCCCTTCTGCAGCACCTGGATCGCTTTTCCGAGCTTCTGG~~~GAGGA\n",
      "             |||||||||||||||||||||||||||||||||||||||||||||||||||||||||||~~~|||||\n",
      "       Hit - CTTCGCGCACCTCATGGAATCCCTTCTGCAGCACCTGGATCGCTTTTCCGAGCTTCTGG~~~GAGGA \n",
      " \n",
      "       Query: NC_000011.10:c22625823-22622533 Homo sapiens chromosome 11, GRCh...\n",
      "        Hit: gi|28195912|gb|AC116010.5| Homo sapiens chromosome 11, clone RP1...\n",
      "Query range: [0:3291] (1)\n",
      "  Hit range: [105646:108937] (1)\n",
      "Quick stats: evalue 0; bitscore 5936.17\n",
      "  Fragments: 1 (3291 columns)\n",
      "     Query - CTTCGCGCACCTCATGGAATCCCTTCTGCAGCACCTGGATCGCTTTTCCGAGCTTCTGG~~~GAGGA\n",
      "             |||||||||||||||||||||||||||||||||||||||||||||||||||||||||||~~~|||||\n",
      "       Hit - CTTCGCGCACCTCATGGAATCCCTTCTGCAGCACCTGGATCGCTTTTCCGAGCTTCTGG~~~GAGGA\n"
     ]
    }
   ],
   "source": [
    "blast_hsp37 = blast_qresult[2][0]\n",
    "blast_hsp30 = blast_qresult[3][0]\n",
    "print(blast_hsp37, \"\\n\", \"\\n\", blast_hsp30)"
   ]
  },
  {
   "cell_type": "code",
   "execution_count": null,
   "metadata": {},
   "outputs": [],
   "source": []
  }
 ],
 "metadata": {
  "kernelspec": {
   "display_name": "Python 3",
   "language": "python",
   "name": "python3"
  }
 },
 "nbformat": 4,
 "nbformat_minor": 2
}
